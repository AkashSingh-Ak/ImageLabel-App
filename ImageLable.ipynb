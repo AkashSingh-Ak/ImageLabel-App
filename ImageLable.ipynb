{
 "cells": [
  {
   "cell_type": "code",
   "execution_count": 11,
   "id": "49d4da50",
   "metadata": {},
   "outputs": [],
   "source": [
    "import numpy as np\n",
    "import cv2\n",
    "import os\n",
    "import matplotlib.pyplot as plt"
   ]
  },
  {
   "cell_type": "code",
   "execution_count": 12,
   "id": "28b29cbd",
   "metadata": {},
   "outputs": [],
   "source": [
    "path = 'img'\n",
    "data = os.listdir(path)"
   ]
  },
  {
   "cell_type": "code",
   "execution_count": 13,
   "id": "4ba4ff9d",
   "metadata": {},
   "outputs": [
    {
     "data": {
      "text/plain": [
       "['1_9XpuVEbwOK5quSG2m0ZBxg.jpeg',\n",
       " 'crushed.jpg',\n",
       " 'HDPE 2.jpg',\n",
       " 'images.jpg',\n",
       " 'page-plasticbottles.jpg',\n",
       " 'plastic-3151246_1920.jpg',\n",
       " 'plastic.png',\n",
       " 'Water Bottles Resized.jpg']"
      ]
     },
     "execution_count": 13,
     "metadata": {},
     "output_type": "execute_result"
    }
   ],
   "source": [
    "data"
   ]
  },
  {
   "cell_type": "code",
   "execution_count": 14,
   "id": "fff7cca6",
   "metadata": {},
   "outputs": [],
   "source": [
    "img_path = []\n",
    "for img in data:\n",
    "    image = os.path.join(path, img)\n",
    "    img_path.append(image)"
   ]
  },
  {
   "cell_type": "code",
   "execution_count": 15,
   "id": "3f5bbd6f",
   "metadata": {},
   "outputs": [
    {
     "name": "stdout",
     "output_type": "stream",
     "text": [
      "['hdpe', 'pet_bottle', 'polythene']\n"
     ]
    },
    {
     "data": {
      "text/plain": [
       "['data\\\\hdpe', 'data\\\\pet_bottle', 'data\\\\polythene']"
      ]
     },
     "execution_count": 15,
     "metadata": {},
     "output_type": "execute_result"
    }
   ],
   "source": [
    "path = 'data'\n",
    "dir_ = os.listdir(path)\n",
    "classes = []\n",
    "print(dir_)\n",
    "for i in dir_:\n",
    "    classes.append(os.path.join(path, i))\n",
    "classes"
   ]
  },
  {
   "cell_type": "code",
   "execution_count": 16,
   "id": "7a3103fc",
   "metadata": {},
   "outputs": [
    {
     "data": {
      "text/plain": [
       "(8,\n",
       " ['img\\\\1_9XpuVEbwOK5quSG2m0ZBxg.jpeg',\n",
       "  'img\\\\crushed.jpg',\n",
       "  'img\\\\HDPE 2.jpg',\n",
       "  'img\\\\images.jpg',\n",
       "  'img\\\\page-plasticbottles.jpg',\n",
       "  'img\\\\plastic-3151246_1920.jpg',\n",
       "  'img\\\\plastic.png',\n",
       "  'img\\\\Water Bottles Resized.jpg'])"
      ]
     },
     "execution_count": 16,
     "metadata": {},
     "output_type": "execute_result"
    }
   ],
   "source": [
    "num = len(img_path)\n",
    "num, img_path"
   ]
  },
  {
   "cell_type": "code",
   "execution_count": 17,
   "id": "b2b4013c",
   "metadata": {},
   "outputs": [],
   "source": [
    "x, y, w, h = np.repeat(0, 4)"
   ]
  },
  {
   "cell_type": "code",
   "execution_count": 18,
   "id": "c8d1e872",
   "metadata": {},
   "outputs": [],
   "source": [
    "mouse_click = False"
   ]
  },
  {
   "cell_type": "code",
   "execution_count": 33,
   "id": "424913c2",
   "metadata": {},
   "outputs": [],
   "source": [
    "## Defining a call back function to draw a rectangle\n",
    "def mouseCallBack(event, x_, y_, flag, pram):\n",
    "    # declearing global variables sothat it wont show errors\n",
    "    global x, y, w, h, mouse_click, show_img\n",
    "    if event == cv2.EVENT_LBUTTONDOWN:\n",
    "        mouse_click = True\n",
    "        # giving x and y the current coordinate\n",
    "        x, y = x_, y_\n",
    "        # reseting the show_img\n",
    "        show_img = np.copy(img)\n",
    "\n",
    "    elif event == cv2.EVENT_MOUSEMOVE:\n",
    "        if mouse_click:\n",
    "            # reseting th image\n",
    "            show_img = np.copy(img)\n",
    "            # drawing a rectangle on image\n",
    "            cv2.rectangle(show_img, (x, y), (x_, y_), (0, 255, 0), 2)\n",
    "\n",
    "    elif event == cv2.EVENT_LBUTTONUP:\n",
    "        mouse_click = False\n",
    "        #giving the coordinates of to width and height\n",
    "        w, h = x_, y_\n",
    "        \n",
    "        # this small code will allows us to make rectangle from any diretion without an errer\n",
    "        if x > w:\n",
    "            x, w = w, x\n",
    "        if y > h:\n",
    "            y, h = h, y\n",
    "        \n",
    "        shape = show_img.shape\n",
    "        if x < 1:\n",
    "            x = 1\n",
    "        if y < 1:\n",
    "            y = 1\n",
    "        if w > shape[1]:\n",
    "            w = shape[1] - 1\n",
    "        if h > shape[0]:\n",
    "            h = shape[0] -1"
   ]
  },
  {
   "cell_type": "code",
   "execution_count": 34,
   "id": "2e43f2c5",
   "metadata": {},
   "outputs": [],
   "source": [
    "# Creating a windo with name image\n",
    "cv2.namedWindow('image')\n",
    "i, j, k, l = np.repeat(0, 4)\n",
    "\n",
    "\n",
    "show_img = cv2.imread(img_path[i])\n",
    "img = cv2.imread(img_path[i])\n",
    "shape = show_img.shape\n",
    "\n",
    "while(1):\n",
    "    cv2.imshow('image', show_img)\n",
    "    # Mouse callback function\n",
    "    cv2.setMouseCallback('image', mouseCallBack)\n",
    "\n",
    "    key = cv2.waitKey(1)\n",
    "        \n",
    "    if key == ord('h'): # h for hdpe\n",
    "        a = img[y:h, x:w] # cropping the selected part from image\n",
    "        j = j + 1\n",
    "        name = 'hdpe' + str(j) + \".jpg\"\n",
    "        cv2.imwrite(os.path.join(classes[0], name), a) # writing the new image to its directory\n",
    "        \n",
    "    elif key == ord('b'): # b for bottle\n",
    "        a = img[y:h, x:w] # cropping the selected part from image\n",
    "        k = k + 1\n",
    "        name = 'bottle' + str(k) + \".jpg\"\n",
    "        cv2.imwrite(os.path.join(classes[1], name), a) # writing the new image to its directory\n",
    "        \n",
    "    elif key == ord('p'): # p for polythene\n",
    "        a = img[y:h, x:w] # cropping the selected part from image\n",
    "        l = l + 1\n",
    "        name = 'polythene' + str(l) + \".jpg\"\n",
    "        cv2.imwrite(os.path.join(classes[2], name), a) # writing the new image to its directory\n",
    "        \n",
    "    elif key == ord('n'): # N for next image\n",
    "        # Selecting next image\n",
    "        i = i+1   \n",
    "        if i == num: # num is the total number of images\n",
    "            cv2.destroyAllWindows()\n",
    "            break\n",
    "        \n",
    "        show_img = cv2.imread(img_path[i]) # reasing te next image\n",
    "        img = cv2.imread(img_path[i])\n",
    "        \n",
    "        cv2.imshow('image', show_img) # Displaying the new image\n",
    "        cv2.setMouseCallback('image', mouseCallBack) # performing the callback in next image\n",
    "           \n",
    "    elif key == ord (' '): # space bar to end the loop\n",
    "        cv2.destroyAllWindows()\n",
    "        break\n",
    "        "
   ]
  },
  {
   "cell_type": "code",
   "execution_count": 32,
   "id": "c75a2c1a",
   "metadata": {},
   "outputs": [
    {
     "data": {
      "text/plain": [
       "(285, 515, 3)"
      ]
     },
     "execution_count": 32,
     "metadata": {},
     "output_type": "execute_result"
    }
   ],
   "source": [
    "shape = show_img.shape\n",
    "shape"
   ]
  },
  {
   "cell_type": "code",
   "execution_count": 66,
   "id": "a6643648",
   "metadata": {},
   "outputs": [
    {
     "data": {
      "text/plain": [
       "'\\nWindows bitmap (bmp)\\nPortable image formats (pbm, pgm, ppm)\\nSun raster (sr, ras)\\nJPEG (jpeg, jpg, jpe)\\nJPEG 2000 (jp2)\\nTIFF files (tiff, tif)\\nPortable network graphics (png)\\n'"
      ]
     },
     "execution_count": 66,
     "metadata": {},
     "output_type": "execute_result"
    }
   ],
   "source": [
    "\"\"\"\n",
    "List of Image Formats Supported by OpenCV:\n",
    "\n",
    "Windows bitmap (bmp)\n",
    "Portable image formats (pbm, pgm, ppm)\n",
    "Sun raster (sr, ras)\n",
    "JPEG (jpeg, jpg, jpe)\n",
    "JPEG 2000 (jp2)\n",
    "TIFF files (tiff, tif)\n",
    "Portable network graphics (png)\n",
    "\"\"\""
   ]
  },
  {
   "cell_type": "code",
   "execution_count": null,
   "id": "a1519fc1",
   "metadata": {},
   "outputs": [],
   "source": []
  }
 ],
 "metadata": {
  "kernelspec": {
   "display_name": "Python 3",
   "language": "python",
   "name": "python3"
  },
  "language_info": {
   "codemirror_mode": {
    "name": "ipython",
    "version": 3
   },
   "file_extension": ".py",
   "mimetype": "text/x-python",
   "name": "python",
   "nbconvert_exporter": "python",
   "pygments_lexer": "ipython3",
   "version": "3.8.8"
  }
 },
 "nbformat": 4,
 "nbformat_minor": 5
}
